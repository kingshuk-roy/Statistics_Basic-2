{
  "nbformat": 4,
  "nbformat_minor": 0,
  "metadata": {
    "colab": {
      "provenance": []
    },
    "kernelspec": {
      "name": "python3",
      "display_name": "Python 3"
    },
    "language_info": {
      "name": "python"
    }
  },
  "cells": [
    {
      "cell_type": "code",
      "execution_count": 12,
      "metadata": {
        "id": "sPUxXZRvmUNQ",
        "colab": {
          "base_uri": "https://localhost:8080/",
          "height": 35
        },
        "outputId": "f84a8b71-0f61-4094-950c-ee7f7dcf5496"
      },
      "outputs": [
        {
          "output_type": "execute_result",
          "data": {
            "text/plain": [
              "'\\n    a) Mean\\n    b) Median\\n    c) Mode'"
            ],
            "application/vnd.google.colaboratory.intrinsic+json": {
              "type": "string"
            }
          },
          "metadata": {},
          "execution_count": 12
        }
      ],
      "source": [
        "# Q1. What are the three measures of central tendency?\n",
        "# ANS\n",
        "'''\n",
        "    a) Mean\n",
        "    b) Median\n",
        "    c) Mode'''"
      ]
    },
    {
      "cell_type": "code",
      "source": [
        "# Q2. What is the difference between the mean, median, and mode? How are they used to measure the central tendency of a dataset?\n",
        "# ANS\n",
        "'''\n",
        "The mean is the average where the sum of all the numbers is divided by the total number of numbers,\n",
        "whereas the median is the middle value in the list of given numbers numerically ordered from smallest to biggest and\n",
        "mode is the value of the number which occurs most often in the list.\n",
        "\n",
        "The result is the mean or average score.\n",
        "Example: To find the average of the four numbers 2, 4, 6, and 8, we need to add the number first.\n",
        "2 + 4 + 6+ 8 = 20\n",
        "Divide the sum by the total number of numbers, i. e 4.\n",
        "20/4 = 5 is the average or mean\n",
        "Example: 4, 2, 8, 10, 19.\n",
        "\n",
        "The next step is to find the middle number on the list. It is called the median.\n",
        "Arrange the numbers in ascending order. i .e., 2, 4, 8, 10, 19.\n",
        "As the total numbers are 5, so the middle number 8 is the median here.\n",
        "\n",
        "We can have more than one mode or no mode at all.\n",
        "Example: 3, 3, 5, 6, 7, 7, 8, 1, 1, 1, 4, 5, 6.\n",
        "Find the frequency of each number.\n",
        "For number 3, it’s 2. For 5, it’s 2. For 6, it’s 2. For 7, it’s 2. For 8, it’s one. For 1, it’s 3. For 4, it’s 1.\n",
        "The number with the highest frequency is the mode. Hence, the mode of the given sequence of numbers is 1.\n",
        "'''"
      ],
      "metadata": {
        "id": "CkkTkabQndmp",
        "colab": {
          "base_uri": "https://localhost:8080/",
          "height": 140
        },
        "outputId": "604187c4-8326-4022-c5e6-a4b9b6a45bb2"
      },
      "execution_count": 13,
      "outputs": [
        {
          "output_type": "execute_result",
          "data": {
            "text/plain": [
              "'\\nThe mean is the average where the sum of all the numbers is divided by the total number of numbers,\\nwhereas the median is the middle value in the list of given numbers numerically ordered from smallest to biggest and\\nmode is the value of the number which occurs most often in the list.\\n\\nThe result is the mean or average score.\\nExample: To find the average of the four numbers 2, 4, 6, and 8, we need to add the number first.\\n2 + 4 + 6+ 8 = 20\\nDivide the sum by the total number of numbers, i. e 4.\\n20/4 = 5 is the average or mean\\nExample: 4, 2, 8, 10, 19.\\n\\nThe next step is to find the middle number on the list. It is called the median.\\nArrange the numbers in ascending order. i .e., 2, 4, 8, 10, 19.\\nAs the total numbers are 5, so the middle number 8 is the median here.\\n\\nWe can have more than one mode or no mode at all.\\nExample: 3, 3, 5, 6, 7, 7, 8, 1, 1, 1, 4, 5, 6.\\nFind the frequency of each number.\\nFor number 3, it’s 2. For 5, it’s 2. For 6, it’s 2. For 7, it’s 2. For 8, it’s one. For 1, it’s 3. For 4, it’s 1.\\nThe number with the highest frequency is the mode. Hence, the mode of the given sequence of numbers is 1.\\n'"
            ],
            "application/vnd.google.colaboratory.intrinsic+json": {
              "type": "string"
            }
          },
          "metadata": {},
          "execution_count": 13
        }
      ]
    },
    {
      "cell_type": "code",
      "source": [
        "# Q3. Measure the three measures of central tendency for the given height data:\n",
        "height=[178,177,176,177,178.2,178,175,179,180,175,178.9,176.2,177,172.5,178,176.5]\n",
        "# ANS\n",
        "\n",
        "import numpy as np\n",
        "import statistics as st\n",
        "print(f\"the mode of the the height data set is: {np.mean(height)}\")\n",
        "print(f\"the mode of the the height data set is: {np.median(height)}\")\n",
        "print(f\"the mode of the the height data set is: {st.mode(height)}\")"
      ],
      "metadata": {
        "colab": {
          "base_uri": "https://localhost:8080/"
        },
        "id": "r7b7F14wpyY_",
        "outputId": "2977ea45-1514-4899-ca2a-364b84e53d51"
      },
      "execution_count": 14,
      "outputs": [
        {
          "output_type": "stream",
          "name": "stdout",
          "text": [
            "the mode of the the height data set is: 177.01875\n",
            "the mode of the the height data set is: 177.0\n",
            "the mode of the the height data set is: 178\n"
          ]
        }
      ]
    },
    {
      "cell_type": "code",
      "source": [
        "# Q4. Find the standard deviation for the given data:\n",
        "data=[178,177,176,177,178.2,178,175,179,180,175,178.9,176.2,177,172.5,178,176.5]\n",
        "# ANS\n",
        "\n",
        "np.std(data)"
      ],
      "metadata": {
        "colab": {
          "base_uri": "https://localhost:8080/"
        },
        "id": "MImYB-_grCv6",
        "outputId": "05c9492c-74f7-40cc-f76b-a1a51afc8574"
      },
      "execution_count": 15,
      "outputs": [
        {
          "output_type": "execute_result",
          "data": {
            "text/plain": [
              "1.7885814036548633"
            ]
          },
          "metadata": {},
          "execution_count": 15
        }
      ]
    },
    {
      "cell_type": "code",
      "source": [
        "# Q5. How are measures of dispersion such as range, variance, and standard deviation used to describe the spread of a dataset? Provide an example.\n",
        "# ANS\n",
        "'''\n",
        "1. Range:\n",
        "The range is the simplest measure of dispersion and represents the difference between the largest and smallest values in a dataset.\n",
        "It gives an idea of the spread in the entire range of the data.\n",
        "\n",
        "Example:\n",
        "Consider the following dataset representing the ages of individuals in a group of friends:\n",
        "\n",
        "[20, 22, 24, 25, 27, 30]\n",
        "\n",
        "The range in this case is calculated as 30 (largest) - 20 (smallest) = 10. This means the ages are spread out over a range of 10 years.\n",
        "\n",
        "2. Variance:\n",
        "The variance measures how much the data points deviate from the mean of the dataset.\n",
        "It provides a measure of the average squared difference between each data point and the mean.\n",
        "A larger variance indicates a greater spread of data points from the mean.\n",
        "\n",
        "Example:\n",
        "Let's use the same dataset as before:\n",
        "\n",
        "[20, 22, 24, 25, 27, 30]\n",
        "\n",
        "Step 1: Calculate the mean\n",
        "Mean = (20 + 22 + 24 + 25 + 27 + 30) / 6 = 24.67\n",
        "\n",
        "Step 2: Calculate the squared differences from the mean\n",
        "Squared differences: (-4.67)^2, (-2.67)^2, (-0.67)^2, (0.33)^2, (2.33)^2, (5.33)^2\n",
        "\n",
        "Step 3: Calculate the variance\n",
        "Variance = ((-4.67)^2 + (-2.67)^2 + (-0.67)^2 + (0.33)^2 + (2.33)^2 + (5.33)^2) / 6 ≈ 9.11\n",
        "\n",
        "3. Standard Deviation:\n",
        "The standard deviation is the square root of the variance and is often used because it is in the same unit as the original data.\n",
        "It provides a measure of how much the data deviates from the mean, and a larger standard deviation indicates a greater spread of data points from the mean.\n",
        "\n",
        "Example:\n",
        "Using the same dataset as above:\n",
        "\n",
        "Variance ≈ 9.11\n",
        "\n",
        "Standard Deviation = √9.11 ≈ 3.02\n",
        "\n",
        "The standard deviation of approximately 3.02 tells us that, on average, the ages in the dataset deviate by about 3.02 years from the mean age of 24.67.\n",
        "\n",
        "In summary, measures of dispersion like the range, variance, and standard deviation are useful tools for understanding the spread and variability of a dataset.\n",
        "They complement measures of central tendency by providing a more comprehensive description of the data distribution.\n",
        "By using these measures, statisticians and researchers gain valuable insights into the spread and distribution of the data, which can aid in making informed decisions and drawing meaningful conclusions from the dataset.'''\n"
      ],
      "metadata": {
        "id": "z5mam06tvU02",
        "colab": {
          "base_uri": "https://localhost:8080/",
          "height": 140
        },
        "outputId": "205648e7-1e4a-4448-9dd8-a327d6c89d7a"
      },
      "execution_count": 16,
      "outputs": [
        {
          "output_type": "execute_result",
          "data": {
            "text/plain": [
              "\"\\n1. Range:\\nThe range is the simplest measure of dispersion and represents the difference between the largest and smallest values in a dataset. \\nIt gives an idea of the spread in the entire range of the data.\\n\\nExample:\\nConsider the following dataset representing the ages of individuals in a group of friends:\\n\\n[20, 22, 24, 25, 27, 30]\\n\\nThe range in this case is calculated as 30 (largest) - 20 (smallest) = 10. This means the ages are spread out over a range of 10 years.\\n\\n2. Variance:\\nThe variance measures how much the data points deviate from the mean of the dataset. \\nIt provides a measure of the average squared difference between each data point and the mean. \\nA larger variance indicates a greater spread of data points from the mean.\\n\\nExample:\\nLet's use the same dataset as before:\\n\\n[20, 22, 24, 25, 27, 30]\\n\\nStep 1: Calculate the mean\\nMean = (20 + 22 + 24 + 25 + 27 + 30) / 6 = 24.67\\n\\nStep 2: Calculate the squared differences from the mean\\nSquared differences: (-4.67)^2, (-2.67)^2, (-0.67)^2, (0.33)^2, (2.33)^2, (5.33)^2\\n\\nStep 3: Calculate the variance\\nVariance = ((-4.67)^2 + (-2.67)^2 + (-0.67)^2 + (0.33)^2 + (2.33)^2 + (5.33)^2) / 6 ≈ 9.11\\n\\n3. Standard Deviation:\\nThe standard deviation is the square root of the variance and is often used because it is in the same unit as the original data. \\nIt provides a measure of how much the data deviates from the mean, and a larger standard deviation indicates a greater spread of data points from the mean.\\n\\nExample:\\nUsing the same dataset as above:\\n\\nVariance ≈ 9.11\\n\\nStandard Deviation = √9.11 ≈ 3.02\\n\\nThe standard deviation of approximately 3.02 tells us that, on average, the ages in the dataset deviate by about 3.02 years from the mean age of 24.67.\\n\\nIn summary, measures of dispersion like the range, variance, and standard deviation are useful tools for understanding the spread and variability of a dataset. \\nThey complement measures of central tendency by providing a more comprehensive description of the data distribution. \\nBy using these measures, statisticians and researchers gain valuable insights into the spread and distribution of the data, which can aid in making informed decisions and drawing meaningful conclusions from the dataset.\""
            ],
            "application/vnd.google.colaboratory.intrinsic+json": {
              "type": "string"
            }
          },
          "metadata": {},
          "execution_count": 16
        }
      ]
    },
    {
      "cell_type": "code",
      "source": [
        "# Q6. What is a Venn diagram?\n",
        "\n",
        "# ANS\n",
        "'''\n",
        "A Venn diagram is an illustration that uses circles to show the relationships among things or finite groups of things.\n",
        "Circles that overlap have a commonality while circles that do not overlap do not share those traits.\n",
        "Venn diagrams help to visually represent the similarities and differences between two concepts.\n",
        "'''"
      ],
      "metadata": {
        "id": "JEfpDIPUxA3_",
        "colab": {
          "base_uri": "https://localhost:8080/",
          "height": 70
        },
        "outputId": "2156134e-8d42-486c-9208-f1e01c60033d"
      },
      "execution_count": 17,
      "outputs": [
        {
          "output_type": "execute_result",
          "data": {
            "text/plain": [
              "'\\nA Venn diagram is an illustration that uses circles to show the relationships among things or finite groups of things.\\nCircles that overlap have a commonality while circles that do not overlap do not share those traits.\\nVenn diagrams help to visually represent the similarities and differences between two concepts.\\n'"
            ],
            "application/vnd.google.colaboratory.intrinsic+json": {
              "type": "string"
            }
          },
          "metadata": {},
          "execution_count": 17
        }
      ]
    },
    {
      "cell_type": "code",
      "source": [
        "# Q7. For the two given sets A = (2,3,4,5,6,7) & B = (0,2,6,8,10). Find:\n",
        "# (i) A ∩ B\n",
        "# (ii) A ⋃ B\n",
        "\n",
        "# ANS\n",
        "A = {2,3,4,5,6,7}\n",
        "B = {0,2,6,8,10}\n",
        "\n",
        "print(A.intersection(B))\n",
        "print(A.union(B))"
      ],
      "metadata": {
        "colab": {
          "base_uri": "https://localhost:8080/"
        },
        "id": "YquxbmcunfFc",
        "outputId": "db20514e-352e-48c8-e151-67f48eb621ab"
      },
      "execution_count": 18,
      "outputs": [
        {
          "output_type": "stream",
          "name": "stdout",
          "text": [
            "{2, 6}\n",
            "{0, 2, 3, 4, 5, 6, 7, 8, 10}\n"
          ]
        }
      ]
    },
    {
      "cell_type": "code",
      "source": [
        "# Q8. What do you understand about skewness in data?\n",
        "\n",
        "# ANS\n",
        "'''\n",
        "Skewness is a measure of the asymmetry of a distribution. A distribution is asymmetrical when its left and right side are not mirror images.\n",
        "You might want to calculate the skewness of a distribution to: Describe the distribution of a variable alongside other descriptive statistics.'''"
      ],
      "metadata": {
        "id": "LHl_7aHmn0Z9",
        "colab": {
          "base_uri": "https://localhost:8080/",
          "height": 53
        },
        "outputId": "5227eaf3-0fa6-4c5a-ac15-aa2cfaa5878c"
      },
      "execution_count": 19,
      "outputs": [
        {
          "output_type": "execute_result",
          "data": {
            "text/plain": [
              "'\\nSkewness is a measure of the asymmetry of a distribution. A distribution is asymmetrical when its left and right side are not mirror images.\\nYou might want to calculate the skewness of a distribution to: Describe the distribution of a variable alongside other descriptive statistics.'"
            ],
            "application/vnd.google.colaboratory.intrinsic+json": {
              "type": "string"
            }
          },
          "metadata": {},
          "execution_count": 19
        }
      ]
    },
    {
      "cell_type": "code",
      "source": [
        "# Q9. If a data is right skewed then what will be the position of median with respect to mean?\n",
        "# ANS\n",
        "'''\n",
        "Generally, if the distribution of data is skewed to the left, the mean is less than the median, which is often less than the mode.\n",
        "If the distribution of data is skewed to the right, the mode is often less than the median, which is less than the mean.'''"
      ],
      "metadata": {
        "id": "NHAUYaMEqon0",
        "colab": {
          "base_uri": "https://localhost:8080/",
          "height": 53
        },
        "outputId": "398a3b8a-edc5-41ce-ce8a-eba817fcb48d"
      },
      "execution_count": 20,
      "outputs": [
        {
          "output_type": "execute_result",
          "data": {
            "text/plain": [
              "'\\nGenerally, if the distribution of data is skewed to the left, the mean is less than the median, which is often less than the mode. \\nIf the distribution of data is skewed to the right, the mode is often less than the median, which is less than the mean.'"
            ],
            "application/vnd.google.colaboratory.intrinsic+json": {
              "type": "string"
            }
          },
          "metadata": {},
          "execution_count": 20
        }
      ]
    },
    {
      "cell_type": "code",
      "source": [
        "# Q10. Explain the difference between covariance and correlation. How are these measures used in statistical analysis?\n",
        "# ANS\n",
        "'''\n",
        "Both covariance and correlation measure the relationship and the dependency between two variables.\n",
        "Covariance indicates the direction of the linear relationship between variables.\n",
        "Correlation measures both the strength and direction of the linear relationship between two variables.'''"
      ],
      "metadata": {
        "colab": {
          "base_uri": "https://localhost:8080/",
          "height": 53
        },
        "id": "Nc0NxAAWju4q",
        "outputId": "031aebcc-12bb-4034-c35c-035efa9b053f"
      },
      "execution_count": 21,
      "outputs": [
        {
          "output_type": "execute_result",
          "data": {
            "text/plain": [
              "'\\nBoth covariance and correlation measure the relationship and the dependency between two variables. \\nCovariance indicates the direction of the linear relationship between variables. \\nCorrelation measures both the strength and direction of the linear relationship between two variables.'"
            ],
            "application/vnd.google.colaboratory.intrinsic+json": {
              "type": "string"
            }
          },
          "metadata": {},
          "execution_count": 21
        }
      ]
    },
    {
      "cell_type": "code",
      "source": [
        "# Q11. What is the formula for calculating the sample mean? Provide an example calculation for a dataset.\n",
        "# ANS\n",
        "'''\n",
        "The general sample mean formula for calculating the sample mean is expressed as x̄ = ( Σ xi ) ÷ n.\n",
        "Here, x̄ denotes the average value of the samples or sample mean, xi refers all X sample values and 'n' stands for the number of sample terms in the given data.\n",
        "\n",
        "Example : Find the sample mean of 60, 57, 109, 50.\n",
        "\n",
        "Solution:\n",
        "\n",
        "To find: Sample mean\n",
        "Sum of terms = 60 + 57 + 109 + 50 = 276\n",
        "Number of terms = 4\n",
        "Using sample mean formula,\n",
        "mean = (sum of terms)/(number of terms)\n",
        "mean = 276/4 = 69\n",
        "\n",
        "Answer: The sample mean of 60, 57, 109, 50 is  69.'''\n",
        "\n"
      ],
      "metadata": {
        "colab": {
          "base_uri": "https://localhost:8080/",
          "height": 87
        },
        "id": "WiYKAuMHkNRA",
        "outputId": "422e8c2b-a52a-4a80-e191-d73f5c3c4dff"
      },
      "execution_count": 22,
      "outputs": [
        {
          "output_type": "execute_result",
          "data": {
            "text/plain": [
              "\"\\nThe general sample mean formula for calculating the sample mean is expressed as x̄ = ( Σ xi ) ÷ n. \\nHere, x̄ denotes the average value of the samples or sample mean, xi refers all X sample values and 'n' stands for the number of sample terms in the given data.\\n\\nExample : Find the sample mean of 60, 57, 109, 50.\\n\\nSolution: \\n\\nTo find: Sample mean\\nSum of terms = 60 + 57 + 109 + 50 = 276\\nNumber of terms = 4\\nUsing sample mean formula,\\nmean = (sum of terms)/(number of terms)\\nmean = 276/4 = 69\\n\\nAnswer: The sample mean of 60, 57, 109, 50 is  69.\""
            ],
            "application/vnd.google.colaboratory.intrinsic+json": {
              "type": "string"
            }
          },
          "metadata": {},
          "execution_count": 22
        }
      ]
    },
    {
      "cell_type": "code",
      "source": [
        "# Q12. For a normal distribution data what is the relationship between its measure of central tendency?\n",
        "# ANS\n",
        "'''\n",
        "For normally distributed data, all three measures of central tendency will give you the same answer so they can all be used. In skewed distributions,\n",
        "the median is the best measure because it is unaffected by extreme outliers or non-symmetric distributions of scores.\n",
        "The mean and mode can vary in skewed distributions.'''"
      ],
      "metadata": {
        "colab": {
          "base_uri": "https://localhost:8080/",
          "height": 70
        },
        "id": "f6gm3Y2mk6HH",
        "outputId": "4957800d-4d7e-442f-953e-cc6b4fa675e8"
      },
      "execution_count": 23,
      "outputs": [
        {
          "output_type": "execute_result",
          "data": {
            "text/plain": [
              "'\\nFor normally distributed data, all three measures of central tendency will give you the same answer so they can all be used. In skewed distributions, \\nthe median is the best measure because it is unaffected by extreme outliers or non-symmetric distributions of scores. \\nThe mean and mode can vary in skewed distributions.'"
            ],
            "application/vnd.google.colaboratory.intrinsic+json": {
              "type": "string"
            }
          },
          "metadata": {},
          "execution_count": 23
        }
      ]
    },
    {
      "cell_type": "code",
      "source": [
        "# Q13. How is covariance different from correlation?\n",
        "# ANS\n",
        "'''\n",
        "Both covariance and correlation measure the relationship and the dependency between two variables.\n",
        "Covariance indicates the direction of the linear relationship between variables.\n",
        "Correlation measures both the strength and direction of the linear relationship between two variables.'''"
      ],
      "metadata": {
        "colab": {
          "base_uri": "https://localhost:8080/",
          "height": 53
        },
        "id": "ZRq9xMAflrev",
        "outputId": "8ccb6d9f-ace0-4db8-c828-6d6a73ef7dc1"
      },
      "execution_count": 24,
      "outputs": [
        {
          "output_type": "execute_result",
          "data": {
            "text/plain": [
              "'\\nBoth covariance and correlation measure the relationship and the dependency between two variables. \\nCovariance indicates the direction of the linear relationship between variables. \\nCorrelation measures both the strength and direction of the linear relationship between two variables.'"
            ],
            "application/vnd.google.colaboratory.intrinsic+json": {
              "type": "string"
            }
          },
          "metadata": {},
          "execution_count": 24
        }
      ]
    },
    {
      "cell_type": "code",
      "source": [
        "# Q14. How do outliers affect measures of central tendency and dispersion? Provide an example.\n",
        "# ANS\n",
        "'''\n",
        "Outliers can have a significant impact on measures of central tendency and dispersion in statistical analysis.\n",
        "Central tendency measures aim to describe the \"typical\" or \"central\" value of a dataset, while dispersion measures quantify the spread or variability of the data points.\n",
        "\n",
        "1. **Measures of Central Tendency:**\n",
        "\n",
        "   Outliers can distort measures of central tendency, such as the mean and median.\n",
        "   The mean is particularly sensitive to outliers because it takes into account the value of every data point.\n",
        "   Even a single extreme outlier can substantially alter the mean. On the other hand, the median is less affected by outliers since it only considers the middle value in a sorted dataset.\n",
        "\n",
        "   **Example:**\n",
        "   Let's consider a dataset representing the salaries of ten employees in a company:\n",
        "\n",
        "   `[30000, 32000, 34000, 36000, 38000, 40000, 42000, 44000, 46000, 1000000]`\n",
        "\n",
        "   The mean salary (average) is `(30000 + 32000 + 34000 + 36000 + 38000 + 40000 + 42000 + 44000 + 46000 + 1000000) / 10 = 147,000`.\n",
        "   The outlier `1000000` has significantly skewed the mean, making it much larger than what most employees earn.\n",
        "\n",
        "   The median salary (middle value) is `(38000 + 40000) / 2 = 39000`.\n",
        "   In this case, the median is less influenced by the outlier and represents a more typical salary.\n",
        "\n",
        "2. **Measures of Dispersion:**\n",
        "\n",
        "   Outliers can also affect measures of dispersion, such as the range, variance, and standard deviation.\n",
        "   These measures quantify how spread out the data points are.\n",
        "   Outliers increase the range of the data and can lead to larger variance and standard deviation values.\n",
        "\n",
        "   **Example:**\n",
        "   Consider two datasets representing the test scores of students in two different classes:\n",
        "\n",
        "   Class A: `[65, 70, 72, 73, 75, 80, 85]`\n",
        "   Class B: `[65, 70, 72, 73, 75, 80, 185]`\n",
        "\n",
        "   Both classes have the same values except for one outlier in Class B. Let's calculate the variance for both classes:\n",
        "\n",
        "   For Class A:\n",
        "   Mean: `(65 + 70 + 72 + 73 + 75 + 80 + 85) / 7 = 73.71`\n",
        "   Variance: `((65-73.71)^2 + (70-73.71)^2 + (72-73.71)^2 + (73-73.71)^2 + (75-73.71)^2 + (80-73.71)^2 + (85-73.71)^2) / 7 = 54.57`\n",
        "\n",
        "   For Class B:\n",
        "   Mean: `(65 + 70 + 72 + 73 + 75 + 80 + 185) / 7 = 87.29`\n",
        "   Variance: `((65-87.29)^2 + (70-87.29)^2 + (72-87.29)^2 + (73-87.29)^2 + (75-87.29)^2 + (80-87.29)^2 + (185-87.29)^2) / 7 = 1098.48`\n",
        "\n",
        "   The outlier in Class B substantially increased the variance, reflecting a wider spread of data points in comparison to Class A.\n",
        "\n",
        "In conclusion, outliers can significantly impact both measures of central tendency and dispersion.\n",
        "It is essential to identify and handle outliers appropriately to avoid biased interpretations of data and to make more accurate statistical inferences.\n",
        "Various methods can be used to handle outliers, such as removing them, transforming the data, or using robust statistical measures that are less sensitive to extreme values.'''"
      ],
      "metadata": {
        "colab": {
          "base_uri": "https://localhost:8080/",
          "height": 140
        },
        "id": "q-U-OPsMl4U3",
        "outputId": "f77037cf-bd17-4404-bed3-bb9c3f4ab3d9"
      },
      "execution_count": 25,
      "outputs": [
        {
          "output_type": "execute_result",
          "data": {
            "text/plain": [
              "'\\nOutliers can have a significant impact on measures of central tendency and dispersion in statistical analysis. \\nCentral tendency measures aim to describe the \"typical\" or \"central\" value of a dataset, while dispersion measures quantify the spread or variability of the data points.\\n\\n1. **Measures of Central Tendency:**\\n\\n   Outliers can distort measures of central tendency, such as the mean and median. \\n   The mean is particularly sensitive to outliers because it takes into account the value of every data point. \\n   Even a single extreme outlier can substantially alter the mean. On the other hand, the median is less affected by outliers since it only considers the middle value in a sorted dataset.\\n\\n   **Example:**\\n   Let\\'s consider a dataset representing the salaries of ten employees in a company:\\n\\n   `[30000, 32000, 34000, 36000, 38000, 40000, 42000, 44000, 46000, 1000000]`\\n\\n   The mean salary (average) is `(30000 + 32000 + 34000 + 36000 + 38000 + 40000 + 42000 + 44000 + 46000 + 1000000) / 10 = 147,000`. \\n   The outlier `1000000` has significantly skewed the mean, making it much larger than what most employees earn.\\n\\n   The median salary (middle value) is `(38000 + 40000) / 2 = 39000`. \\n   In this case, the median is less influenced by the outlier and represents a more typical salary.\\n\\n2. **Measures of Dispersion:**\\n\\n   Outliers can also affect measures of dispersion, such as the range, variance, and standard deviation. \\n   These measures quantify how spread out the data points are. \\n   Outliers increase the range of the data and can lead to larger variance and standard deviation values.\\n\\n   **Example:**\\n   Consider two datasets representing the test scores of students in two different classes:\\n\\n   Class A: `[65, 70, 72, 73, 75, 80, 85]`\\n   Class B: `[65, 70, 72, 73, 75, 80, 185]`\\n\\n   Both classes have the same values except for one outlier in Class B. Let\\'s calculate the variance for both classes:\\n\\n   For Class A:\\n   Mean: `(65 + 70 + 72 + 73 + 75 + 80 + 85) / 7 = 73.71`\\n   Variance: `((65-73.71)^2 + (70-73.71)^2 + (72-73.71)^2 + (73-73.71)^2 + (75-73.71)^2 + (80-73.71)^2 + (85-73.71)^2) / 7 = 54.57`\\n\\n   For Class B:\\n   Mean: `(65 + 70 + 72 + 73 + 75 + 80 + 185) / 7 = 87.29`\\n   Variance: `((65-87.29)^2 + (70-87.29)^2 + (72-87.29)^2 + (73-87.29)^2 + (75-87.29)^2 + (80-87.29)^2 + (185-87.29)^2) / 7 = 1098.48`\\n\\n   The outlier in Class B substantially increased the variance, reflecting a wider spread of data points in comparison to Class A.\\n\\nIn conclusion, outliers can significantly impact both measures of central tendency and dispersion. \\nIt is essential to identify and handle outliers appropriately to avoid biased interpretations of data and to make more accurate statistical inferences. \\nVarious methods can be used to handle outliers, such as removing them, transforming the data, or using robust statistical measures that are less sensitive to extreme values.'"
            ],
            "application/vnd.google.colaboratory.intrinsic+json": {
              "type": "string"
            }
          },
          "metadata": {},
          "execution_count": 25
        }
      ]
    }
  ]
}